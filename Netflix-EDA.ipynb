{
 "cells": [
  {
   "cell_type": "markdown",
   "id": "0d7b276a",
   "metadata": {
    "papermill": {
     "duration": 0.009918,
     "end_time": "2024-11-21T13:10:32.168813",
     "exception": false,
     "start_time": "2024-11-21T13:10:32.158895",
     "status": "completed"
    },
    "tags": []
   },
   "source": [
    "# Import Necessary Libraries"
   ]
  },
  {
   "cell_type": "code",
   "execution_count": 1,
   "id": "1d471f73",
   "metadata": {
    "_cell_guid": "b1076dfc-b9ad-4769-8c92-a6c4dae69d19",
    "_uuid": "8f2839f25d086af736a60e9eeb907d3b93b6e0e5",
    "execution": {
     "iopub.execute_input": "2024-11-21T13:10:32.190520Z",
     "iopub.status.busy": "2024-11-21T13:10:32.190062Z",
     "iopub.status.idle": "2024-11-21T13:10:35.661382Z",
     "shell.execute_reply": "2024-11-21T13:10:35.660175Z"
    },
    "papermill": {
     "duration": 3.485682,
     "end_time": "2024-11-21T13:10:35.663952",
     "exception": false,
     "start_time": "2024-11-21T13:10:32.178270",
     "status": "completed"
    },
    "tags": []
   },
   "outputs": [
    {
     "name": "stdout",
     "output_type": "stream",
     "text": [
      "/kaggle/input/netflix-data/Netflix dataset.csv\n"
     ]
    }
   ],
   "source": [
    "# This Python 3 environment comes with many helpful analytics libraries installed\n",
    "# It is defined by the kaggle/python Docker image: https://github.com/kaggle/docker-python\n",
    "# For example, here's several helpful packages to load\n",
    "\n",
    "import numpy as np # linear algebra\n",
    "import pandas as pd # data processing, CSV file I/O (e.g. pd.read_csv)\n",
    "import seaborn as sns\n",
    "import matplotlib.pyplot as plt\n",
    "from scipy import stats\n",
    "import missingno as msno\n",
    "import plotly.graph_objs as go\n",
    "import plotly.express as px\n",
    "from scipy.stats import chi2_contingency\n",
    "from statsmodels.stats.proportion import proportions_ztest\n",
    "# Input data files are available in the read-only \"../input/\" directory\n",
    "# For example, running this (by clicking run or pressing Shift+Enter) will list all files under the input directory\n",
    "\n",
    "import os\n",
    "for dirname, _, filenames in os.walk('/kaggle/input'):\n",
    "    for filename in filenames:\n",
    "        print(os.path.join(dirname, filename))\n",
    "\n",
    "# You can write up to 20GB to the current directory (/kaggle/working/) that gets preserved as output when you create a version using \"Save & Run All\" \n",
    "# You can also write temporary files to /kaggle/temp/, but they won't be saved outside of the current session"
   ]
  },
  {
   "cell_type": "markdown",
   "id": "109bb077",
   "metadata": {
    "papermill": {
     "duration": 0.009014,
     "end_time": "2024-11-21T13:10:35.682710",
     "exception": false,
     "start_time": "2024-11-21T13:10:35.673696",
     "status": "completed"
    },
    "tags": []
   },
   "source": [
    "# Load the Data"
   ]
  },
  {
   "cell_type": "code",
   "execution_count": 2,
   "id": "5c986218",
   "metadata": {
    "execution": {
     "iopub.execute_input": "2024-11-21T13:10:35.703682Z",
     "iopub.status.busy": "2024-11-21T13:10:35.703046Z",
     "iopub.status.idle": "2024-11-21T13:10:35.765050Z",
     "shell.execute_reply": "2024-11-21T13:10:35.763957Z"
    },
    "papermill": {
     "duration": 0.075452,
     "end_time": "2024-11-21T13:10:35.767693",
     "exception": false,
     "start_time": "2024-11-21T13:10:35.692241",
     "status": "completed"
    },
    "tags": []
   },
   "outputs": [],
   "source": [
    "# Load the dataset\n",
    "file_path = '/kaggle/input/netflix-data/Netflix dataset.csv'\n",
    "data = pd.read_csv(file_path)"
   ]
  },
  {
   "cell_type": "code",
   "execution_count": 3,
   "id": "cb17ab8b",
   "metadata": {
    "execution": {
     "iopub.execute_input": "2024-11-21T13:10:35.789812Z",
     "iopub.status.busy": "2024-11-21T13:10:35.789375Z",
     "iopub.status.idle": "2024-11-21T13:10:35.819225Z",
     "shell.execute_reply": "2024-11-21T13:10:35.818003Z"
    },
    "papermill": {
     "duration": 0.043783,
     "end_time": "2024-11-21T13:10:35.821563",
     "exception": false,
     "start_time": "2024-11-21T13:10:35.777780",
     "status": "completed"
    },
    "tags": []
   },
   "outputs": [
    {
     "data": {
      "text/html": [
       "<div>\n",
       "<style scoped>\n",
       "    .dataframe tbody tr th:only-of-type {\n",
       "        vertical-align: middle;\n",
       "    }\n",
       "\n",
       "    .dataframe tbody tr th {\n",
       "        vertical-align: top;\n",
       "    }\n",
       "\n",
       "    .dataframe thead th {\n",
       "        text-align: right;\n",
       "    }\n",
       "</style>\n",
       "<table border=\"1\" class=\"dataframe\">\n",
       "  <thead>\n",
       "    <tr style=\"text-align: right;\">\n",
       "      <th></th>\n",
       "      <th>show_id</th>\n",
       "      <th>type</th>\n",
       "      <th>title</th>\n",
       "      <th>director</th>\n",
       "      <th>country</th>\n",
       "      <th>date_added</th>\n",
       "      <th>release_year</th>\n",
       "      <th>rating</th>\n",
       "      <th>duration</th>\n",
       "      <th>listed_in</th>\n",
       "    </tr>\n",
       "  </thead>\n",
       "  <tbody>\n",
       "    <tr>\n",
       "      <th>0</th>\n",
       "      <td>s1</td>\n",
       "      <td>Movie</td>\n",
       "      <td>Dick Johnson Is Dead</td>\n",
       "      <td>Kirsten Johnson</td>\n",
       "      <td>United States</td>\n",
       "      <td>9/25/2021</td>\n",
       "      <td>2020</td>\n",
       "      <td>PG-13</td>\n",
       "      <td>90 min</td>\n",
       "      <td>Documentaries</td>\n",
       "    </tr>\n",
       "    <tr>\n",
       "      <th>1</th>\n",
       "      <td>s3</td>\n",
       "      <td>TV Show</td>\n",
       "      <td>Ganglands</td>\n",
       "      <td>Julien Leclercq</td>\n",
       "      <td>France</td>\n",
       "      <td>9/24/2021</td>\n",
       "      <td>2021</td>\n",
       "      <td>TV-MA</td>\n",
       "      <td>1 Season</td>\n",
       "      <td>Crime TV Shows, International TV Shows, TV Act...</td>\n",
       "    </tr>\n",
       "    <tr>\n",
       "      <th>2</th>\n",
       "      <td>s6</td>\n",
       "      <td>TV Show</td>\n",
       "      <td>Midnight Mass</td>\n",
       "      <td>Mike Flanagan</td>\n",
       "      <td>United States</td>\n",
       "      <td>9/24/2021</td>\n",
       "      <td>2021</td>\n",
       "      <td>TV-MA</td>\n",
       "      <td>1 Season</td>\n",
       "      <td>TV Dramas, TV Horror, TV Mysteries</td>\n",
       "    </tr>\n",
       "    <tr>\n",
       "      <th>3</th>\n",
       "      <td>s14</td>\n",
       "      <td>Movie</td>\n",
       "      <td>Confessions of an Invisible Girl</td>\n",
       "      <td>Bruno Garotti</td>\n",
       "      <td>Brazil</td>\n",
       "      <td>9/22/2021</td>\n",
       "      <td>2021</td>\n",
       "      <td>TV-PG</td>\n",
       "      <td>91 min</td>\n",
       "      <td>Children &amp; Family Movies, Comedies</td>\n",
       "    </tr>\n",
       "    <tr>\n",
       "      <th>4</th>\n",
       "      <td>s8</td>\n",
       "      <td>Movie</td>\n",
       "      <td>Sankofa</td>\n",
       "      <td>Haile Gerima</td>\n",
       "      <td>United States</td>\n",
       "      <td>9/24/2021</td>\n",
       "      <td>1993</td>\n",
       "      <td>TV-MA</td>\n",
       "      <td>125 min</td>\n",
       "      <td>Dramas, Independent Movies, International Movies</td>\n",
       "    </tr>\n",
       "    <tr>\n",
       "      <th>...</th>\n",
       "      <td>...</td>\n",
       "      <td>...</td>\n",
       "      <td>...</td>\n",
       "      <td>...</td>\n",
       "      <td>...</td>\n",
       "      <td>...</td>\n",
       "      <td>...</td>\n",
       "      <td>...</td>\n",
       "      <td>...</td>\n",
       "      <td>...</td>\n",
       "    </tr>\n",
       "    <tr>\n",
       "      <th>8785</th>\n",
       "      <td>s8797</td>\n",
       "      <td>TV Show</td>\n",
       "      <td>Yunus Emre</td>\n",
       "      <td>Not Given</td>\n",
       "      <td>Turkey</td>\n",
       "      <td>1/17/2017</td>\n",
       "      <td>2016</td>\n",
       "      <td>TV-PG</td>\n",
       "      <td>2 Seasons</td>\n",
       "      <td>International TV Shows, TV Dramas</td>\n",
       "    </tr>\n",
       "    <tr>\n",
       "      <th>8786</th>\n",
       "      <td>s8798</td>\n",
       "      <td>TV Show</td>\n",
       "      <td>Zak Storm</td>\n",
       "      <td>Not Given</td>\n",
       "      <td>United States</td>\n",
       "      <td>9/13/2018</td>\n",
       "      <td>2016</td>\n",
       "      <td>TV-Y7</td>\n",
       "      <td>3 Seasons</td>\n",
       "      <td>Kids' TV</td>\n",
       "    </tr>\n",
       "    <tr>\n",
       "      <th>8787</th>\n",
       "      <td>s8801</td>\n",
       "      <td>TV Show</td>\n",
       "      <td>Zindagi Gulzar Hai</td>\n",
       "      <td>Not Given</td>\n",
       "      <td>Pakistan</td>\n",
       "      <td>12/15/2016</td>\n",
       "      <td>2012</td>\n",
       "      <td>TV-PG</td>\n",
       "      <td>1 Season</td>\n",
       "      <td>International TV Shows, Romantic TV Shows, TV ...</td>\n",
       "    </tr>\n",
       "    <tr>\n",
       "      <th>8788</th>\n",
       "      <td>s8784</td>\n",
       "      <td>TV Show</td>\n",
       "      <td>Yoko</td>\n",
       "      <td>Not Given</td>\n",
       "      <td>Pakistan</td>\n",
       "      <td>6/23/2018</td>\n",
       "      <td>2016</td>\n",
       "      <td>TV-Y</td>\n",
       "      <td>1 Season</td>\n",
       "      <td>Kids' TV</td>\n",
       "    </tr>\n",
       "    <tr>\n",
       "      <th>8789</th>\n",
       "      <td>s8786</td>\n",
       "      <td>TV Show</td>\n",
       "      <td>YOM</td>\n",
       "      <td>Not Given</td>\n",
       "      <td>Pakistan</td>\n",
       "      <td>6/7/2018</td>\n",
       "      <td>2016</td>\n",
       "      <td>TV-Y7</td>\n",
       "      <td>1 Season</td>\n",
       "      <td>Kids' TV</td>\n",
       "    </tr>\n",
       "  </tbody>\n",
       "</table>\n",
       "<p>8790 rows × 10 columns</p>\n",
       "</div>"
      ],
      "text/plain": [
       "     show_id     type                             title         director  \\\n",
       "0         s1    Movie              Dick Johnson Is Dead  Kirsten Johnson   \n",
       "1         s3  TV Show                         Ganglands  Julien Leclercq   \n",
       "2         s6  TV Show                     Midnight Mass    Mike Flanagan   \n",
       "3        s14    Movie  Confessions of an Invisible Girl    Bruno Garotti   \n",
       "4         s8    Movie                           Sankofa     Haile Gerima   \n",
       "...      ...      ...                               ...              ...   \n",
       "8785   s8797  TV Show                        Yunus Emre        Not Given   \n",
       "8786   s8798  TV Show                         Zak Storm        Not Given   \n",
       "8787   s8801  TV Show                Zindagi Gulzar Hai        Not Given   \n",
       "8788   s8784  TV Show                              Yoko        Not Given   \n",
       "8789   s8786  TV Show                               YOM        Not Given   \n",
       "\n",
       "            country  date_added  release_year rating   duration  \\\n",
       "0     United States   9/25/2021          2020  PG-13     90 min   \n",
       "1            France   9/24/2021          2021  TV-MA   1 Season   \n",
       "2     United States   9/24/2021          2021  TV-MA   1 Season   \n",
       "3            Brazil   9/22/2021          2021  TV-PG     91 min   \n",
       "4     United States   9/24/2021          1993  TV-MA    125 min   \n",
       "...             ...         ...           ...    ...        ...   \n",
       "8785         Turkey   1/17/2017          2016  TV-PG  2 Seasons   \n",
       "8786  United States   9/13/2018          2016  TV-Y7  3 Seasons   \n",
       "8787       Pakistan  12/15/2016          2012  TV-PG   1 Season   \n",
       "8788       Pakistan   6/23/2018          2016   TV-Y   1 Season   \n",
       "8789       Pakistan    6/7/2018          2016  TV-Y7   1 Season   \n",
       "\n",
       "                                              listed_in  \n",
       "0                                         Documentaries  \n",
       "1     Crime TV Shows, International TV Shows, TV Act...  \n",
       "2                    TV Dramas, TV Horror, TV Mysteries  \n",
       "3                    Children & Family Movies, Comedies  \n",
       "4      Dramas, Independent Movies, International Movies  \n",
       "...                                                 ...  \n",
       "8785                  International TV Shows, TV Dramas  \n",
       "8786                                           Kids' TV  \n",
       "8787  International TV Shows, Romantic TV Shows, TV ...  \n",
       "8788                                           Kids' TV  \n",
       "8789                                           Kids' TV  \n",
       "\n",
       "[8790 rows x 10 columns]"
      ]
     },
     "execution_count": 3,
     "metadata": {},
     "output_type": "execute_result"
    }
   ],
   "source": [
    "data"
   ]
  },
  {
   "cell_type": "code",
   "execution_count": 4,
   "id": "216035da",
   "metadata": {
    "execution": {
     "iopub.execute_input": "2024-11-21T13:10:35.843281Z",
     "iopub.status.busy": "2024-11-21T13:10:35.842830Z",
     "iopub.status.idle": "2024-11-21T13:10:35.873937Z",
     "shell.execute_reply": "2024-11-21T13:10:35.872585Z"
    },
    "papermill": {
     "duration": 0.044672,
     "end_time": "2024-11-21T13:10:35.876451",
     "exception": false,
     "start_time": "2024-11-21T13:10:35.831779",
     "status": "completed"
    },
    "tags": []
   },
   "outputs": [
    {
     "name": "stdout",
     "output_type": "stream",
     "text": [
      "<class 'pandas.core.frame.DataFrame'>\n",
      "RangeIndex: 8790 entries, 0 to 8789\n",
      "Data columns (total 10 columns):\n",
      " #   Column        Non-Null Count  Dtype \n",
      "---  ------        --------------  ----- \n",
      " 0   show_id       8790 non-null   object\n",
      " 1   type          8790 non-null   object\n",
      " 2   title         8790 non-null   object\n",
      " 3   director      8790 non-null   object\n",
      " 4   country       8790 non-null   object\n",
      " 5   date_added    8790 non-null   object\n",
      " 6   release_year  8790 non-null   int64 \n",
      " 7   rating        8790 non-null   object\n",
      " 8   duration      8790 non-null   object\n",
      " 9   listed_in     8790 non-null   object\n",
      "dtypes: int64(1), object(9)\n",
      "memory usage: 686.8+ KB\n"
     ]
    }
   ],
   "source": [
    "data.info()"
   ]
  },
  {
   "cell_type": "code",
   "execution_count": 5,
   "id": "649944ef",
   "metadata": {
    "execution": {
     "iopub.execute_input": "2024-11-21T13:10:35.898821Z",
     "iopub.status.busy": "2024-11-21T13:10:35.898414Z",
     "iopub.status.idle": "2024-11-21T13:10:35.913453Z",
     "shell.execute_reply": "2024-11-21T13:10:35.912185Z"
    },
    "papermill": {
     "duration": 0.029049,
     "end_time": "2024-11-21T13:10:35.915827",
     "exception": false,
     "start_time": "2024-11-21T13:10:35.886778",
     "status": "completed"
    },
    "tags": []
   },
   "outputs": [
    {
     "data": {
      "text/html": [
       "<div>\n",
       "<style scoped>\n",
       "    .dataframe tbody tr th:only-of-type {\n",
       "        vertical-align: middle;\n",
       "    }\n",
       "\n",
       "    .dataframe tbody tr th {\n",
       "        vertical-align: top;\n",
       "    }\n",
       "\n",
       "    .dataframe thead th {\n",
       "        text-align: right;\n",
       "    }\n",
       "</style>\n",
       "<table border=\"1\" class=\"dataframe\">\n",
       "  <thead>\n",
       "    <tr style=\"text-align: right;\">\n",
       "      <th></th>\n",
       "      <th>show_id</th>\n",
       "      <th>type</th>\n",
       "      <th>title</th>\n",
       "      <th>director</th>\n",
       "      <th>country</th>\n",
       "      <th>date_added</th>\n",
       "      <th>release_year</th>\n",
       "      <th>rating</th>\n",
       "      <th>duration</th>\n",
       "      <th>listed_in</th>\n",
       "    </tr>\n",
       "  </thead>\n",
       "  <tbody>\n",
       "    <tr>\n",
       "      <th>0</th>\n",
       "      <td>s1</td>\n",
       "      <td>Movie</td>\n",
       "      <td>Dick Johnson Is Dead</td>\n",
       "      <td>Kirsten Johnson</td>\n",
       "      <td>United States</td>\n",
       "      <td>9/25/2021</td>\n",
       "      <td>2020</td>\n",
       "      <td>PG-13</td>\n",
       "      <td>90 min</td>\n",
       "      <td>Documentaries</td>\n",
       "    </tr>\n",
       "    <tr>\n",
       "      <th>1</th>\n",
       "      <td>s3</td>\n",
       "      <td>TV Show</td>\n",
       "      <td>Ganglands</td>\n",
       "      <td>Julien Leclercq</td>\n",
       "      <td>France</td>\n",
       "      <td>9/24/2021</td>\n",
       "      <td>2021</td>\n",
       "      <td>TV-MA</td>\n",
       "      <td>1 Season</td>\n",
       "      <td>Crime TV Shows, International TV Shows, TV Act...</td>\n",
       "    </tr>\n",
       "    <tr>\n",
       "      <th>2</th>\n",
       "      <td>s6</td>\n",
       "      <td>TV Show</td>\n",
       "      <td>Midnight Mass</td>\n",
       "      <td>Mike Flanagan</td>\n",
       "      <td>United States</td>\n",
       "      <td>9/24/2021</td>\n",
       "      <td>2021</td>\n",
       "      <td>TV-MA</td>\n",
       "      <td>1 Season</td>\n",
       "      <td>TV Dramas, TV Horror, TV Mysteries</td>\n",
       "    </tr>\n",
       "    <tr>\n",
       "      <th>3</th>\n",
       "      <td>s14</td>\n",
       "      <td>Movie</td>\n",
       "      <td>Confessions of an Invisible Girl</td>\n",
       "      <td>Bruno Garotti</td>\n",
       "      <td>Brazil</td>\n",
       "      <td>9/22/2021</td>\n",
       "      <td>2021</td>\n",
       "      <td>TV-PG</td>\n",
       "      <td>91 min</td>\n",
       "      <td>Children &amp; Family Movies, Comedies</td>\n",
       "    </tr>\n",
       "    <tr>\n",
       "      <th>4</th>\n",
       "      <td>s8</td>\n",
       "      <td>Movie</td>\n",
       "      <td>Sankofa</td>\n",
       "      <td>Haile Gerima</td>\n",
       "      <td>United States</td>\n",
       "      <td>9/24/2021</td>\n",
       "      <td>1993</td>\n",
       "      <td>TV-MA</td>\n",
       "      <td>125 min</td>\n",
       "      <td>Dramas, Independent Movies, International Movies</td>\n",
       "    </tr>\n",
       "  </tbody>\n",
       "</table>\n",
       "</div>"
      ],
      "text/plain": [
       "  show_id     type                             title         director  \\\n",
       "0      s1    Movie              Dick Johnson Is Dead  Kirsten Johnson   \n",
       "1      s3  TV Show                         Ganglands  Julien Leclercq   \n",
       "2      s6  TV Show                     Midnight Mass    Mike Flanagan   \n",
       "3     s14    Movie  Confessions of an Invisible Girl    Bruno Garotti   \n",
       "4      s8    Movie                           Sankofa     Haile Gerima   \n",
       "\n",
       "         country date_added  release_year rating  duration  \\\n",
       "0  United States  9/25/2021          2020  PG-13    90 min   \n",
       "1         France  9/24/2021          2021  TV-MA  1 Season   \n",
       "2  United States  9/24/2021          2021  TV-MA  1 Season   \n",
       "3         Brazil  9/22/2021          2021  TV-PG    91 min   \n",
       "4  United States  9/24/2021          1993  TV-MA   125 min   \n",
       "\n",
       "                                           listed_in  \n",
       "0                                      Documentaries  \n",
       "1  Crime TV Shows, International TV Shows, TV Act...  \n",
       "2                 TV Dramas, TV Horror, TV Mysteries  \n",
       "3                 Children & Family Movies, Comedies  \n",
       "4   Dramas, Independent Movies, International Movies  "
      ]
     },
     "execution_count": 5,
     "metadata": {},
     "output_type": "execute_result"
    }
   ],
   "source": [
    "data.head()"
   ]
  },
  {
   "cell_type": "markdown",
   "id": "85122d6a",
   "metadata": {
    "papermill": {
     "duration": 0.010355,
     "end_time": "2024-11-21T13:10:35.936247",
     "exception": false,
     "start_time": "2024-11-21T13:10:35.925892",
     "status": "completed"
    },
    "tags": []
   },
   "source": [
    "# Data Cleaning"
   ]
  },
  {
   "cell_type": "markdown",
   "id": "4c2d2ba7",
   "metadata": {
    "papermill": {
     "duration": 0.009819,
     "end_time": "2024-11-21T13:10:35.956286",
     "exception": false,
     "start_time": "2024-11-21T13:10:35.946467",
     "status": "completed"
    },
    "tags": []
   },
   "source": [
    "## Check for Duplicates: If duplicates exist, remove them "
   ]
  },
  {
   "cell_type": "code",
   "execution_count": 6,
   "id": "344e5763",
   "metadata": {
    "execution": {
     "iopub.execute_input": "2024-11-21T13:10:35.977940Z",
     "iopub.status.busy": "2024-11-21T13:10:35.977544Z",
     "iopub.status.idle": "2024-11-21T13:10:35.994342Z",
     "shell.execute_reply": "2024-11-21T13:10:35.992879Z"
    },
    "papermill": {
     "duration": 0.030672,
     "end_time": "2024-11-21T13:10:35.996941",
     "exception": false,
     "start_time": "2024-11-21T13:10:35.966269",
     "status": "completed"
    },
    "tags": []
   },
   "outputs": [
    {
     "data": {
      "text/plain": [
       "0"
      ]
     },
     "execution_count": 6,
     "metadata": {},
     "output_type": "execute_result"
    }
   ],
   "source": [
    "data.duplicated().sum()\n",
    "# data = data.drop_duplicates()"
   ]
  },
  {
   "cell_type": "markdown",
   "id": "af440fa0",
   "metadata": {
    "papermill": {
     "duration": 0.009915,
     "end_time": "2024-11-21T13:10:36.017148",
     "exception": false,
     "start_time": "2024-11-21T13:10:36.007233",
     "status": "completed"
    },
    "tags": []
   },
   "source": [
    "*In the case of this data there are no duplicates so no need to run line 2 from the cell above*"
   ]
  },
  {
   "cell_type": "markdown",
   "id": "be535ede",
   "metadata": {
    "papermill": {
     "duration": 0.009818,
     "end_time": "2024-11-21T13:10:36.037172",
     "exception": false,
     "start_time": "2024-11-21T13:10:36.027354",
     "status": "completed"
    },
    "tags": []
   },
   "source": [
    "## Handle Missing Values: \n",
    "\n",
    "We check for missing values and decide how to handle them (e.g., filling with mean, median, or a placeholder)."
   ]
  },
  {
   "cell_type": "code",
   "execution_count": 7,
   "id": "0911347e",
   "metadata": {
    "execution": {
     "iopub.execute_input": "2024-11-21T13:10:36.059268Z",
     "iopub.status.busy": "2024-11-21T13:10:36.058812Z",
     "iopub.status.idle": "2024-11-21T13:10:36.071712Z",
     "shell.execute_reply": "2024-11-21T13:10:36.070436Z"
    },
    "papermill": {
     "duration": 0.026859,
     "end_time": "2024-11-21T13:10:36.074170",
     "exception": false,
     "start_time": "2024-11-21T13:10:36.047311",
     "status": "completed"
    },
    "tags": []
   },
   "outputs": [
    {
     "data": {
      "text/plain": [
       "show_id         0\n",
       "type            0\n",
       "title           0\n",
       "director        0\n",
       "country         0\n",
       "date_added      0\n",
       "release_year    0\n",
       "rating          0\n",
       "duration        0\n",
       "listed_in       0\n",
       "dtype: int64"
      ]
     },
     "execution_count": 7,
     "metadata": {},
     "output_type": "execute_result"
    }
   ],
   "source": [
    "data.isnull().sum()"
   ]
  },
  {
   "cell_type": "code",
   "execution_count": 8,
   "id": "0424a83d",
   "metadata": {
    "execution": {
     "iopub.execute_input": "2024-11-21T13:10:36.097308Z",
     "iopub.status.busy": "2024-11-21T13:10:36.096861Z",
     "iopub.status.idle": "2024-11-21T13:10:36.934880Z",
     "shell.execute_reply": "2024-11-21T13:10:36.933664Z"
    },
    "papermill": {
     "duration": 0.853122,
     "end_time": "2024-11-21T13:10:36.937659",
     "exception": false,
     "start_time": "2024-11-21T13:10:36.084537",
     "status": "completed"
    },
    "tags": []
   },
   "outputs": [
    {
     "data": {
      "text/plain": [
       "<Axes: >"
      ]
     },
     "execution_count": 8,
     "metadata": {},
     "output_type": "execute_result"
    },
    {
     "data": {
      "image/png": "[encoded data removed]",
      "text/plain": [
       "<Figure size 2500x1000 with 2 Axes>"
      ]
     },
     "metadata": {},
     "output_type": "display_data"
    }
   ],
   "source": [
    "msno.matrix(data)  # Visualize missing data"
   ]
  },
  {
   "cell_type": "markdown",
   "id": "204d2571",
   "metadata": {
    "papermill": {
     "duration": 0.010794,
     "end_time": "2024-11-21T13:10:36.959870",
     "exception": false,
     "start_time": "2024-11-21T13:10:36.949076",
     "status": "completed"
    },
    "tags": []
   },
   "source": [
    "From the above output and graph we there are no missing values from out dataset."
   ]
  },
  {
   "cell_type": "markdown",
   "id": "930fa953",
   "metadata": {
    "papermill": {
     "duration": 0.010749,
     "end_time": "2024-11-21T13:10:36.981895",
     "exception": false,
     "start_time": "2024-11-21T13:10:36.971146",
     "status": "completed"
    },
    "tags": []
   },
   "source": [
    "## Outlier dictection and removal:"
   ]
  },
  {
   "cell_type": "code",
   "execution_count": 9,
   "id": "67d0a742",
   "metadata": {
    "execution": {
     "iopub.execute_input": "2024-11-21T13:10:37.005688Z",
     "iopub.status.busy": "2024-11-21T13:10:37.005260Z",
     "iopub.status.idle": "2024-11-21T13:10:37.335277Z",
     "shell.execute_reply": "2024-11-21T13:10:37.334101Z"
    },
    "papermill": {
     "duration": 0.344869,
     "end_time": "2024-11-21T13:10:37.337765",
     "exception": false,
     "start_time": "2024-11-21T13:10:36.992896",
     "status": "completed"
    },
    "tags": []
   },
   "outputs": [
    {
     "data": {
      "image/png": "[encoded data removed]",
      "text/plain": [
       "<Figure size 1500x1000 with 6 Axes>"
      ]
     },
     "metadata": {},
     "output_type": "display_data"
    }
   ],
   "source": [
    "boxplot = data.plot(kind='box', subplots=True, layout=(2,3), sharex=False, sharey=False, colormap='bwr', figsize=(15,10))\n",
    "\n",
    "plt.show()"
   ]
  },
  {
   "cell_type": "markdown",
   "id": "e4c95919",
   "metadata": {
    "papermill": {
     "duration": 0.012707,
     "end_time": "2024-11-21T13:10:37.362243",
     "exception": false,
     "start_time": "2024-11-21T13:10:37.349536",
     "status": "completed"
    },
    "tags": []
   },
   "source": [
    "# Exploratory Data Analysis (EDA)"
   ]
  },
  {
   "cell_type": "code",
   "execution_count": 10,
   "id": "b00890a9",
   "metadata": {
    "execution": {
     "iopub.execute_input": "2024-11-21T13:10:37.387376Z",
     "iopub.status.busy": "2024-11-21T13:10:37.386878Z",
     "iopub.status.idle": "2024-11-21T13:10:37.396545Z",
     "shell.execute_reply": "2024-11-21T13:10:37.395297Z"
    },
    "papermill": {
     "duration": 0.025124,
     "end_time": "2024-11-21T13:10:37.399121",
     "exception": false,
     "start_time": "2024-11-21T13:10:37.373997",
     "status": "completed"
    },
    "tags": []
   },
   "outputs": [],
   "source": [
    "data.drop(data[data[\"release_year\"] == 1925].index, inplace = True)"
   ]
  },
  {
   "cell_type": "code",
   "execution_count": 11,
   "id": "9a982e7b",
   "metadata": {
    "execution": {
     "iopub.execute_input": "2024-11-21T13:10:37.424930Z",
     "iopub.status.busy": "2024-11-21T13:10:37.424509Z",
     "iopub.status.idle": "2024-11-21T13:10:37.873447Z",
     "shell.execute_reply": "2024-11-21T13:10:37.871765Z"
    },
    "papermill": {
     "duration": 0.465636,
     "end_time": "2024-11-21T13:10:37.876389",
     "exception": false,
     "start_time": "2024-11-21T13:10:37.410753",
     "status": "completed"
    },
    "tags": []
   },
   "outputs": [
    {
     "data": {
      "image/png": "[encoded data removed]",
      "text/plain": [
       "<Figure size 1500x1000 with 6 Axes>"
      ]
     },
     "metadata": {},
     "output_type": "display_data"
    }
   ],
   "source": [
    "boxplot = data.plot(kind='box', subplots=True, layout=(2,3), sharex=False, sharey=False, colormap='bwr', figsize=(15,10))\n",
    "\n",
    "plt.show()"
   ]
  },
  {
   "cell_type": "markdown",
   "id": "536f1a12",
   "metadata": {
    "papermill": {
     "duration": 0.013739,
     "end_time": "2024-11-21T13:10:37.904787",
     "exception": false,
     "start_time": "2024-11-21T13:10:37.891048",
     "status": "completed"
    },
    "tags": []
   },
   "source": [
    "## Descriptive Statistics"
   ]
  },
  {
   "cell_type": "code",
   "execution_count": 12,
   "id": "76bd1a1f",
   "metadata": {
    "execution": {
     "iopub.execute_input": "2024-11-21T13:10:37.931332Z",
     "iopub.status.busy": "2024-11-21T13:10:37.930902Z",
     "iopub.status.idle": "2024-11-21T13:10:37.946539Z",
     "shell.execute_reply": "2024-11-21T13:10:37.945168Z"
    },
    "papermill": {
     "duration": 0.031938,
     "end_time": "2024-11-21T13:10:37.948791",
     "exception": false,
     "start_time": "2024-11-21T13:10:37.916853",
     "status": "completed"
    },
    "tags": []
   },
   "outputs": [
    {
     "data": {
      "text/html": [
       "<div>\n",
       "<style scoped>\n",
       "    .dataframe tbody tr th:only-of-type {\n",
       "        vertical-align: middle;\n",
       "    }\n",
       "\n",
       "    .dataframe tbody tr th {\n",
       "        vertical-align: top;\n",
       "    }\n",
       "\n",
       "    .dataframe thead th {\n",
       "        text-align: right;\n",
       "    }\n",
       "</style>\n",
       "<table border=\"1\" class=\"dataframe\">\n",
       "  <thead>\n",
       "    <tr style=\"text-align: right;\">\n",
       "      <th></th>\n",
       "      <th>release_year</th>\n",
       "    </tr>\n",
       "  </thead>\n",
       "  <tbody>\n",
       "    <tr>\n",
       "      <th>count</th>\n",
       "      <td>8789.00000</td>\n",
       "    </tr>\n",
       "    <tr>\n",
       "      <th>mean</th>\n",
       "      <td>2014.19331</td>\n",
       "    </tr>\n",
       "    <tr>\n",
       "      <th>std</th>\n",
       "      <td>8.77454</td>\n",
       "    </tr>\n",
       "    <tr>\n",
       "      <th>min</th>\n",
       "      <td>1942.00000</td>\n",
       "    </tr>\n",
       "    <tr>\n",
       "      <th>25%</th>\n",
       "      <td>2013.00000</td>\n",
       "    </tr>\n",
       "    <tr>\n",
       "      <th>50%</th>\n",
       "      <td>2017.00000</td>\n",
       "    </tr>\n",
       "    <tr>\n",
       "      <th>75%</th>\n",
       "      <td>2019.00000</td>\n",
       "    </tr>\n",
       "    <tr>\n",
       "      <th>max</th>\n",
       "      <td>2021.00000</td>\n",
       "    </tr>\n",
       "  </tbody>\n",
       "</table>\n",
       "</div>"
      ],
      "text/plain": [
       "       release_year\n",
       "count    8789.00000\n",
       "mean     2014.19331\n",
       "std         8.77454\n",
       "min      1942.00000\n",
       "25%      2013.00000\n",
       "50%      2017.00000\n",
       "75%      2019.00000\n",
       "max      2021.00000"
      ]
     },
     "execution_count": 12,
     "metadata": {},
     "output_type": "execute_result"
    }
   ],
   "source": [
    "data.describe()"
   ]
  },
  {
   "cell_type": "markdown",
   "id": "964c6a04",
   "metadata": {
    "papermill": {
     "duration": 0.011802,
     "end_time": "2024-11-21T13:10:37.972566",
     "exception": false,
     "start_time": "2024-11-21T13:10:37.960764",
     "status": "completed"
    },
    "tags": []
   },
   "source": [
    "## Column Types:\n",
    "\n",
    "Review column data types and convert as needed (e.g., date columns)."
   ]
  },
  {
   "cell_type": "code",
   "execution_count": 13,
   "id": "68a6270f",
   "metadata": {
    "execution": {
     "iopub.execute_input": "2024-11-21T13:10:38.004075Z",
     "iopub.status.busy": "2024-11-21T13:10:38.003638Z",
     "iopub.status.idle": "2024-11-21T13:10:38.029163Z",
     "shell.execute_reply": "2024-11-21T13:10:38.027926Z"
    },
    "papermill": {
     "duration": 0.04796,
     "end_time": "2024-11-21T13:10:38.032331",
     "exception": false,
     "start_time": "2024-11-21T13:10:37.984371",
     "status": "completed"
    },
    "tags": []
   },
   "outputs": [
    {
     "name": "stdout",
     "output_type": "stream",
     "text": [
      "<class 'pandas.core.series.Series'>\n",
      "Index: 8789 entries, 0 to 8789\n",
      "Series name: date_added\n",
      "Non-Null Count  Dtype         \n",
      "--------------  -----         \n",
      "8789 non-null   datetime64[ns]\n",
      "dtypes: datetime64[ns](1)\n",
      "memory usage: 137.3 KB\n"
     ]
    }
   ],
   "source": [
    "data['date_added'] = pd.to_datetime(data['date_added'])\n",
    "data['date_added'].info()"
   ]
  },
  {
   "cell_type": "markdown",
   "id": "ad7a394a",
   "metadata": {
    "papermill": {
     "duration": 0.023298,
     "end_time": "2024-11-21T13:10:38.074802",
     "exception": false,
     "start_time": "2024-11-21T13:10:38.051504",
     "status": "completed"
    },
    "tags": []
   },
   "source": [
    "## Descriptive Statistics for Categorical Columns:"
   ]
  },
  {
   "cell_type": "code",
   "execution_count": 14,
   "id": "78057607",
   "metadata": {
    "execution": {
     "iopub.execute_input": "2024-11-21T13:10:38.125531Z",
     "iopub.status.busy": "2024-11-21T13:10:38.124878Z",
     "iopub.status.idle": "2024-11-21T13:10:38.170772Z",
     "shell.execute_reply": "2024-11-21T13:10:38.169546Z"
    },
    "papermill": {
     "duration": 0.072533,
     "end_time": "2024-11-21T13:10:38.173319",
     "exception": false,
     "start_time": "2024-11-21T13:10:38.100786",
     "status": "completed"
    },
    "tags": []
   },
   "outputs": [
    {
     "data": {
      "text/html": [
       "<div>\n",
       "<style scoped>\n",
       "    .dataframe tbody tr th:only-of-type {\n",
       "        vertical-align: middle;\n",
       "    }\n",
       "\n",
       "    .dataframe tbody tr th {\n",
       "        vertical-align: top;\n",
       "    }\n",
       "\n",
       "    .dataframe thead th {\n",
       "        text-align: right;\n",
       "    }\n",
       "</style>\n",
       "<table border=\"1\" class=\"dataframe\">\n",
       "  <thead>\n",
       "    <tr style=\"text-align: right;\">\n",
       "      <th></th>\n",
       "      <th>show_id</th>\n",
       "      <th>type</th>\n",
       "      <th>title</th>\n",
       "      <th>director</th>\n",
       "      <th>country</th>\n",
       "      <th>rating</th>\n",
       "      <th>duration</th>\n",
       "      <th>listed_in</th>\n",
       "    </tr>\n",
       "  </thead>\n",
       "  <tbody>\n",
       "    <tr>\n",
       "      <th>count</th>\n",
       "      <td>8789</td>\n",
       "      <td>8789</td>\n",
       "      <td>8789</td>\n",
       "      <td>8789</td>\n",
       "      <td>8789</td>\n",
       "      <td>8789</td>\n",
       "      <td>8789</td>\n",
       "      <td>8789</td>\n",
       "    </tr>\n",
       "    <tr>\n",
       "      <th>unique</th>\n",
       "      <td>8789</td>\n",
       "      <td>2</td>\n",
       "      <td>8786</td>\n",
       "      <td>4528</td>\n",
       "      <td>86</td>\n",
       "      <td>14</td>\n",
       "      <td>220</td>\n",
       "      <td>513</td>\n",
       "    </tr>\n",
       "    <tr>\n",
       "      <th>top</th>\n",
       "      <td>s1</td>\n",
       "      <td>Movie</td>\n",
       "      <td>9-Feb</td>\n",
       "      <td>Not Given</td>\n",
       "      <td>United States</td>\n",
       "      <td>TV-MA</td>\n",
       "      <td>1 Season</td>\n",
       "      <td>Dramas, International Movies</td>\n",
       "    </tr>\n",
       "    <tr>\n",
       "      <th>freq</th>\n",
       "      <td>1</td>\n",
       "      <td>6126</td>\n",
       "      <td>2</td>\n",
       "      <td>2587</td>\n",
       "      <td>3240</td>\n",
       "      <td>3205</td>\n",
       "      <td>1790</td>\n",
       "      <td>362</td>\n",
       "    </tr>\n",
       "  </tbody>\n",
       "</table>\n",
       "</div>"
      ],
      "text/plain": [
       "       show_id   type  title   director        country rating  duration  \\\n",
       "count     8789   8789   8789       8789           8789   8789      8789   \n",
       "unique    8789      2   8786       4528             86     14       220   \n",
       "top         s1  Movie  9-Feb  Not Given  United States  TV-MA  1 Season   \n",
       "freq         1   6126      2       2587           3240   3205      1790   \n",
       "\n",
       "                           listed_in  \n",
       "count                           8789  \n",
       "unique                           513  \n",
       "top     Dramas, International Movies  \n",
       "freq                             362  "
      ]
     },
     "execution_count": 14,
     "metadata": {},
     "output_type": "execute_result"
    }
   ],
   "source": [
    "data.describe(include=\"O\")"
   ]
  },
  {
   "cell_type": "markdown",
   "id": "acac65e0",
   "metadata": {
    "papermill": {
     "duration": 0.012159,
     "end_time": "2024-11-21T13:10:38.198669",
     "exception": false,
     "start_time": "2024-11-21T13:10:38.186510",
     "status": "completed"
    },
    "tags": []
   },
   "source": [
    "## Data Visualization"
   ]
  },
  {
   "cell_type": "markdown",
   "id": "94a76eaa",
   "metadata": {
    "papermill": {
     "duration": 0.015699,
     "end_time": "2024-11-21T13:10:38.233684",
     "exception": false,
     "start_time": "2024-11-21T13:10:38.217985",
     "status": "completed"
    },
    "tags": []
   },
   "source": [
    "## Univariate Analysis:\n",
    "Histograms for continuous variables and bar plots for categorical variables."
   ]
  },
  {
   "cell_type": "code",
   "execution_count": 15,
   "id": "f038c723",
   "metadata": {
    "execution": {
     "iopub.execute_input": "2024-11-21T13:10:38.270611Z",
     "iopub.status.busy": "2024-11-21T13:10:38.270187Z",
     "iopub.status.idle": "2024-11-21T13:10:38.822018Z",
     "shell.execute_reply": "2024-11-21T13:10:38.820763Z"
    },
    "papermill": {
     "duration": 0.572633,
     "end_time": "2024-11-21T13:10:38.824747",
     "exception": false,
     "start_time": "2024-11-21T13:10:38.252114",
     "status": "completed"
    },
    "tags": []
   },
   "outputs": [
    {
     "data": {
      "image/png": "[encoded data removed]",
      "text/plain": [
       "<Figure size 1000x800 with 2 Axes>"
      ]
     },
     "metadata": {},
     "output_type": "display_data"
    }
   ],
   "source": [
    "data.hist(bins=30, figsize=(10, 8))\n",
    "plt.show()"
   ]
  },
  {
   "cell_type": "markdown",
   "id": "3685776c",
   "metadata": {
    "papermill": {
     "duration": 0.012597,
     "end_time": "2024-11-21T13:10:38.850488",
     "exception": false,
     "start_time": "2024-11-21T13:10:38.837891",
     "status": "completed"
    },
    "tags": []
   },
   "source": [
    "## Most released type per year"
   ]
  },
  {
   "cell_type": "code",
   "execution_count": 16,
   "id": "05ff3085",
   "metadata": {
    "execution": {
     "iopub.execute_input": "2024-11-21T13:10:38.879688Z",
     "iopub.status.busy": "2024-11-21T13:10:38.879247Z",
     "iopub.status.idle": "2024-11-21T13:10:38.901388Z",
     "shell.execute_reply": "2024-11-21T13:10:38.900122Z"
    },
    "papermill": {
     "duration": 0.04069,
     "end_time": "2024-11-21T13:10:38.903941",
     "exception": false,
     "start_time": "2024-11-21T13:10:38.863251",
     "status": "completed"
    },
    "tags": []
   },
   "outputs": [
    {
     "data": {
      "text/html": [
       "<div>\n",
       "<style scoped>\n",
       "    .dataframe tbody tr th:only-of-type {\n",
       "        vertical-align: middle;\n",
       "    }\n",
       "\n",
       "    .dataframe tbody tr th {\n",
       "        vertical-align: top;\n",
       "    }\n",
       "\n",
       "    .dataframe thead th {\n",
       "        text-align: right;\n",
       "    }\n",
       "</style>\n",
       "<table border=\"1\" class=\"dataframe\">\n",
       "  <thead>\n",
       "    <tr style=\"text-align: right;\">\n",
       "      <th>type</th>\n",
       "      <th>Movie</th>\n",
       "      <th>TV Show</th>\n",
       "    </tr>\n",
       "    <tr>\n",
       "      <th>release_year</th>\n",
       "      <th></th>\n",
       "      <th></th>\n",
       "    </tr>\n",
       "  </thead>\n",
       "  <tbody>\n",
       "    <tr>\n",
       "      <th>1942</th>\n",
       "      <td>2.0</td>\n",
       "      <td>NaN</td>\n",
       "    </tr>\n",
       "    <tr>\n",
       "      <th>1943</th>\n",
       "      <td>3.0</td>\n",
       "      <td>NaN</td>\n",
       "    </tr>\n",
       "    <tr>\n",
       "      <th>1944</th>\n",
       "      <td>3.0</td>\n",
       "      <td>NaN</td>\n",
       "    </tr>\n",
       "    <tr>\n",
       "      <th>1945</th>\n",
       "      <td>3.0</td>\n",
       "      <td>1.0</td>\n",
       "    </tr>\n",
       "    <tr>\n",
       "      <th>1946</th>\n",
       "      <td>1.0</td>\n",
       "      <td>1.0</td>\n",
       "    </tr>\n",
       "    <tr>\n",
       "      <th>...</th>\n",
       "      <td>...</td>\n",
       "      <td>...</td>\n",
       "    </tr>\n",
       "    <tr>\n",
       "      <th>2017</th>\n",
       "      <td>765.0</td>\n",
       "      <td>265.0</td>\n",
       "    </tr>\n",
       "    <tr>\n",
       "      <th>2018</th>\n",
       "      <td>767.0</td>\n",
       "      <td>379.0</td>\n",
       "    </tr>\n",
       "    <tr>\n",
       "      <th>2019</th>\n",
       "      <td>633.0</td>\n",
       "      <td>397.0</td>\n",
       "    </tr>\n",
       "    <tr>\n",
       "      <th>2020</th>\n",
       "      <td>517.0</td>\n",
       "      <td>436.0</td>\n",
       "    </tr>\n",
       "    <tr>\n",
       "      <th>2021</th>\n",
       "      <td>277.0</td>\n",
       "      <td>315.0</td>\n",
       "    </tr>\n",
       "  </tbody>\n",
       "</table>\n",
       "<p>73 rows × 2 columns</p>\n",
       "</div>"
      ],
      "text/plain": [
       "type          Movie  TV Show\n",
       "release_year                \n",
       "1942            2.0      NaN\n",
       "1943            3.0      NaN\n",
       "1944            3.0      NaN\n",
       "1945            3.0      1.0\n",
       "1946            1.0      1.0\n",
       "...             ...      ...\n",
       "2017          765.0    265.0\n",
       "2018          767.0    379.0\n",
       "2019          633.0    397.0\n",
       "2020          517.0    436.0\n",
       "2021          277.0    315.0\n",
       "\n",
       "[73 rows x 2 columns]"
      ]
     },
     "execution_count": 16,
     "metadata": {},
     "output_type": "execute_result"
    }
   ],
   "source": [
    "# Group data by type and release year\n",
    "release_type = data.groupby(['release_year', 'type']).size().unstack()\n",
    "release_type"
   ]
  },
  {
   "cell_type": "code",
   "execution_count": 17,
   "id": "21a2b108",
   "metadata": {
    "execution": {
     "iopub.execute_input": "2024-11-21T13:10:38.933406Z",
     "iopub.status.busy": "2024-11-21T13:10:38.932963Z",
     "iopub.status.idle": "2024-11-21T13:10:39.303659Z",
     "shell.execute_reply": "2024-11-21T13:10:39.302561Z"
    },
    "papermill": {
     "duration": 0.388876,
     "end_time": "2024-11-21T13:10:39.306460",
     "exception": false,
     "start_time": "2024-11-21T13:10:38.917584",
     "status": "completed"
    },
    "tags": []
   },
   "outputs": [
    {
     "data": {
      "text/plain": [
       "<Figure size 1200x600 with 0 Axes>"
      ]
     },
     "metadata": {},
     "output_type": "display_data"
    },
    {
     "data": {
      "image/png": "[encoded data removed]",
      "text/plain": [
       "<Figure size 1200x600 with 1 Axes>"
      ]
     },
     "metadata": {},
     "output_type": "display_data"
    }
   ],
   "source": [
    "# Plot the trend\n",
    "plt.figure(figsize=(12, 6))\n",
    "release_type.plot(kind='line', marker='o', figsize=(12, 6))\n",
    "plt.title('Number of Movies vs TV Shows Released Annually', fontsize=16)\n",
    "plt.xlabel('Release Year', fontsize=12)\n",
    "plt.ylabel('Release Count', fontsize=12)\n",
    "plt.legend(title='Type', fontsize=10)\n",
    "plt.grid(True)\n",
    "plt.show()"
   ]
  },
  {
   "cell_type": "markdown",
   "id": "ebc7a322",
   "metadata": {
    "execution": {
     "iopub.execute_input": "2024-11-19T10:10:33.623758Z",
     "iopub.status.busy": "2024-11-19T10:10:33.623238Z",
     "iopub.status.idle": "2024-11-19T10:10:33.629970Z",
     "shell.execute_reply": "2024-11-19T10:10:33.628711Z",
     "shell.execute_reply.started": "2024-11-19T10:10:33.623717Z"
    },
    "papermill": {
     "duration": 0.02007,
     "end_time": "2024-11-21T13:10:39.342662",
     "exception": false,
     "start_time": "2024-11-21T13:10:39.322592",
     "status": "completed"
    },
    "tags": []
   },
   "source": [
    "## Top 10 categories of TV Shows"
   ]
  },
  {
   "cell_type": "code",
   "execution_count": 18,
   "id": "25684cb4",
   "metadata": {
    "execution": {
     "iopub.execute_input": "2024-11-21T13:10:39.378497Z",
     "iopub.status.busy": "2024-11-21T13:10:39.378039Z",
     "iopub.status.idle": "2024-11-21T13:10:39.392506Z",
     "shell.execute_reply": "2024-11-21T13:10:39.391405Z"
    },
    "papermill": {
     "duration": 0.033667,
     "end_time": "2024-11-21T13:10:39.394995",
     "exception": false,
     "start_time": "2024-11-21T13:10:39.361328",
     "status": "completed"
    },
    "tags": []
   },
   "outputs": [],
   "source": [
    "# Filter for TV shows and count categories\n",
    "tv_shows = data[data['type'] == 'TV Show']\n",
    "tv_categories = tv_shows['listed_in'].str.split(', ').explode().value_counts()"
   ]
  },
  {
   "cell_type": "code",
   "execution_count": 19,
   "id": "ee7fcba4",
   "metadata": {
    "execution": {
     "iopub.execute_input": "2024-11-21T13:10:39.430893Z",
     "iopub.status.busy": "2024-11-21T13:10:39.430477Z",
     "iopub.status.idle": "2024-11-21T13:10:39.447370Z",
     "shell.execute_reply": "2024-11-21T13:10:39.445951Z"
    },
    "papermill": {
     "duration": 0.038319,
     "end_time": "2024-11-21T13:10:39.450024",
     "exception": false,
     "start_time": "2024-11-21T13:10:39.411705",
     "status": "completed"
    },
    "tags": []
   },
   "outputs": [
    {
     "data": {
      "text/html": [
       "<div>\n",
       "<style scoped>\n",
       "    .dataframe tbody tr th:only-of-type {\n",
       "        vertical-align: middle;\n",
       "    }\n",
       "\n",
       "    .dataframe tbody tr th {\n",
       "        vertical-align: top;\n",
       "    }\n",
       "\n",
       "    .dataframe thead th {\n",
       "        text-align: right;\n",
       "    }\n",
       "</style>\n",
       "<table border=\"1\" class=\"dataframe\">\n",
       "  <thead>\n",
       "    <tr style=\"text-align: right;\">\n",
       "      <th></th>\n",
       "      <th>show_id</th>\n",
       "      <th>type</th>\n",
       "      <th>title</th>\n",
       "      <th>director</th>\n",
       "      <th>country</th>\n",
       "      <th>date_added</th>\n",
       "      <th>release_year</th>\n",
       "      <th>rating</th>\n",
       "      <th>duration</th>\n",
       "      <th>listed_in</th>\n",
       "    </tr>\n",
       "  </thead>\n",
       "  <tbody>\n",
       "    <tr>\n",
       "      <th>1</th>\n",
       "      <td>s3</td>\n",
       "      <td>TV Show</td>\n",
       "      <td>Ganglands</td>\n",
       "      <td>Julien Leclercq</td>\n",
       "      <td>France</td>\n",
       "      <td>2021-09-24</td>\n",
       "      <td>2021</td>\n",
       "      <td>TV-MA</td>\n",
       "      <td>1 Season</td>\n",
       "      <td>Crime TV Shows, International TV Shows, TV Act...</td>\n",
       "    </tr>\n",
       "    <tr>\n",
       "      <th>2</th>\n",
       "      <td>s6</td>\n",
       "      <td>TV Show</td>\n",
       "      <td>Midnight Mass</td>\n",
       "      <td>Mike Flanagan</td>\n",
       "      <td>United States</td>\n",
       "      <td>2021-09-24</td>\n",
       "      <td>2021</td>\n",
       "      <td>TV-MA</td>\n",
       "      <td>1 Season</td>\n",
       "      <td>TV Dramas, TV Horror, TV Mysteries</td>\n",
       "    </tr>\n",
       "    <tr>\n",
       "      <th>5</th>\n",
       "      <td>s9</td>\n",
       "      <td>TV Show</td>\n",
       "      <td>The Great British Baking Show</td>\n",
       "      <td>Andy Devonshire</td>\n",
       "      <td>United Kingdom</td>\n",
       "      <td>2021-09-24</td>\n",
       "      <td>2021</td>\n",
       "      <td>TV-14</td>\n",
       "      <td>9 Seasons</td>\n",
       "      <td>British TV Shows, Reality TV</td>\n",
       "    </tr>\n",
       "    <tr>\n",
       "      <th>17</th>\n",
       "      <td>s4</td>\n",
       "      <td>TV Show</td>\n",
       "      <td>Jailbirds New Orleans</td>\n",
       "      <td>Not Given</td>\n",
       "      <td>Pakistan</td>\n",
       "      <td>2021-09-24</td>\n",
       "      <td>2021</td>\n",
       "      <td>TV-MA</td>\n",
       "      <td>1 Season</td>\n",
       "      <td>Docuseries, Reality TV</td>\n",
       "    </tr>\n",
       "    <tr>\n",
       "      <th>18</th>\n",
       "      <td>s15</td>\n",
       "      <td>TV Show</td>\n",
       "      <td>Crime Stories: India Detectives</td>\n",
       "      <td>Not Given</td>\n",
       "      <td>Pakistan</td>\n",
       "      <td>2021-09-22</td>\n",
       "      <td>2021</td>\n",
       "      <td>TV-MA</td>\n",
       "      <td>1 Season</td>\n",
       "      <td>British TV Shows, Crime TV Shows, Docuseries</td>\n",
       "    </tr>\n",
       "  </tbody>\n",
       "</table>\n",
       "</div>"
      ],
      "text/plain": [
       "   show_id     type                            title         director  \\\n",
       "1       s3  TV Show                        Ganglands  Julien Leclercq   \n",
       "2       s6  TV Show                    Midnight Mass    Mike Flanagan   \n",
       "5       s9  TV Show    The Great British Baking Show  Andy Devonshire   \n",
       "17      s4  TV Show            Jailbirds New Orleans        Not Given   \n",
       "18     s15  TV Show  Crime Stories: India Detectives        Not Given   \n",
       "\n",
       "           country date_added  release_year rating   duration  \\\n",
       "1           France 2021-09-24          2021  TV-MA   1 Season   \n",
       "2    United States 2021-09-24          2021  TV-MA   1 Season   \n",
       "5   United Kingdom 2021-09-24          2021  TV-14  9 Seasons   \n",
       "17        Pakistan 2021-09-24          2021  TV-MA   1 Season   \n",
       "18        Pakistan 2021-09-22          2021  TV-MA   1 Season   \n",
       "\n",
       "                                            listed_in  \n",
       "1   Crime TV Shows, International TV Shows, TV Act...  \n",
       "2                  TV Dramas, TV Horror, TV Mysteries  \n",
       "5                        British TV Shows, Reality TV  \n",
       "17                             Docuseries, Reality TV  \n",
       "18       British TV Shows, Crime TV Shows, Docuseries  "
      ]
     },
     "execution_count": 19,
     "metadata": {},
     "output_type": "execute_result"
    }
   ],
   "source": [
    "tv_shows.head()"
   ]
  },
  {
   "cell_type": "code",
   "execution_count": 20,
   "id": "e8c4328f",
   "metadata": {
    "execution": {
     "iopub.execute_input": "2024-11-21T13:10:39.483012Z",
     "iopub.status.busy": "2024-11-21T13:10:39.482520Z",
     "iopub.status.idle": "2024-11-21T13:10:39.492838Z",
     "shell.execute_reply": "2024-11-21T13:10:39.491475Z"
    },
    "papermill": {
     "duration": 0.029511,
     "end_time": "2024-11-21T13:10:39.495525",
     "exception": false,
     "start_time": "2024-11-21T13:10:39.466014",
     "status": "completed"
    },
    "tags": []
   },
   "outputs": [
    {
     "data": {
      "text/plain": [
       "listed_in\n",
       "International TV Shows          1349\n",
       "TV Dramas                        762\n",
       "TV Comedies                      573\n",
       "Crime TV Shows                   469\n",
       "Kids' TV                         448\n",
       "Docuseries                       394\n",
       "Romantic TV Shows                370\n",
       "Reality TV                       255\n",
       "British TV Shows                 252\n",
       "Anime Series                     174\n",
       "Spanish-Language TV Shows        173\n",
       "TV Action & Adventure            167\n",
       "Korean TV Shows                  151\n",
       "TV Mysteries                      98\n",
       "Science & Nature TV               92\n",
       "TV Sci-Fi & Fantasy               83\n",
       "TV Horror                         75\n",
       "Teen TV Shows                     69\n",
       "TV Thrillers                      57\n",
       "Stand-Up Comedy & Talk Shows      56\n",
       "Classic & Cult TV                 26\n",
       "TV Shows                          15\n",
       "Name: count, dtype: int64"
      ]
     },
     "execution_count": 20,
     "metadata": {},
     "output_type": "execute_result"
    }
   ],
   "source": [
    "tv_categories"
   ]
  },
  {
   "cell_type": "code",
   "execution_count": 21,
   "id": "f4d6a44d",
   "metadata": {
    "execution": {
     "iopub.execute_input": "2024-11-21T13:10:39.527916Z",
     "iopub.status.busy": "2024-11-21T13:10:39.527406Z",
     "iopub.status.idle": "2024-11-21T13:10:39.894692Z",
     "shell.execute_reply": "2024-11-21T13:10:39.893255Z"
    },
    "papermill": {
     "duration": 0.387033,
     "end_time": "2024-11-21T13:10:39.898359",
     "exception": false,
     "start_time": "2024-11-21T13:10:39.511326",
     "status": "completed"
    },
    "tags": []
   },
   "outputs": [
    {
     "data": {
      "image/png": "[encoded data removed]",
      "text/plain": [
       "<Figure size 1200x600 with 1 Axes>"
      ]
     },
     "metadata": {},
     "output_type": "display_data"
    }
   ],
   "source": [
    "# Visualize top categories for TV shows\n",
    "plt.figure(figsize=(12, 6))\n",
    "sns.barplot(x=tv_categories.head(10).index, y=tv_categories.head(10).values, palette='colorblind')\n",
    "\n",
    "# # Get the bar container object (assuming you want to highlight the first bar)\n",
    "# bars = plt.gca().patches\n",
    "\n",
    "# # Set the color of the first bar (index 0) to the highlight color\n",
    "# bars[1].set_facecolor('red')\n",
    "# bars[3].set_facecolor('red')\n",
    "\n",
    "plt.title('Top Categories for TV Shows', fontsize=16)\n",
    "plt.xlabel('TV Show Category', fontsize=12)\n",
    "plt.ylabel('Category Count', fontsize=12)\n",
    "plt.xticks(rotation=45)\n",
    "plt.show()"
   ]
  },
  {
   "cell_type": "markdown",
   "id": "158a5542",
   "metadata": {
    "papermill": {
     "duration": 0.019259,
     "end_time": "2024-11-21T13:10:39.937951",
     "exception": false,
     "start_time": "2024-11-21T13:10:39.918692",
     "status": "completed"
    },
    "tags": []
   },
   "source": [
    "## The most rating for contents added after 2018"
   ]
  },
  {
   "cell_type": "code",
   "execution_count": 22,
   "id": "237aa1e7",
   "metadata": {
    "execution": {
     "iopub.execute_input": "2024-11-21T13:10:39.975681Z",
     "iopub.status.busy": "2024-11-21T13:10:39.975085Z",
     "iopub.status.idle": "2024-11-21T13:10:39.986456Z",
     "shell.execute_reply": "2024-11-21T13:10:39.985141Z"
    },
    "papermill": {
     "duration": 0.031803,
     "end_time": "2024-11-21T13:10:39.989195",
     "exception": false,
     "start_time": "2024-11-21T13:10:39.957392",
     "status": "completed"
    },
    "tags": []
   },
   "outputs": [],
   "source": [
    "# Filter data for recent years (2018 onwards)\n",
    "recent_years = data[data['date_added'].dt.year >= 2018]\n",
    "rating_counts = recent_years['rating'].value_counts()"
   ]
  },
  {
   "cell_type": "code",
   "execution_count": 23,
   "id": "28d8c5b8",
   "metadata": {
    "execution": {
     "iopub.execute_input": "2024-11-21T13:10:40.023016Z",
     "iopub.status.busy": "2024-11-21T13:10:40.021938Z",
     "iopub.status.idle": "2024-11-21T13:10:40.038867Z",
     "shell.execute_reply": "2024-11-21T13:10:40.037632Z"
    },
    "papermill": {
     "duration": 0.036573,
     "end_time": "2024-11-21T13:10:40.041298",
     "exception": false,
     "start_time": "2024-11-21T13:10:40.004725",
     "status": "completed"
    },
    "tags": []
   },
   "outputs": [
    {
     "data": {
      "text/html": [
       "<div>\n",
       "<style scoped>\n",
       "    .dataframe tbody tr th:only-of-type {\n",
       "        vertical-align: middle;\n",
       "    }\n",
       "\n",
       "    .dataframe tbody tr th {\n",
       "        vertical-align: top;\n",
       "    }\n",
       "\n",
       "    .dataframe thead th {\n",
       "        text-align: right;\n",
       "    }\n",
       "</style>\n",
       "<table border=\"1\" class=\"dataframe\">\n",
       "  <thead>\n",
       "    <tr style=\"text-align: right;\">\n",
       "      <th></th>\n",
       "      <th>show_id</th>\n",
       "      <th>type</th>\n",
       "      <th>title</th>\n",
       "      <th>director</th>\n",
       "      <th>country</th>\n",
       "      <th>date_added</th>\n",
       "      <th>release_year</th>\n",
       "      <th>rating</th>\n",
       "      <th>duration</th>\n",
       "      <th>listed_in</th>\n",
       "    </tr>\n",
       "  </thead>\n",
       "  <tbody>\n",
       "    <tr>\n",
       "      <th>0</th>\n",
       "      <td>s1</td>\n",
       "      <td>Movie</td>\n",
       "      <td>Dick Johnson Is Dead</td>\n",
       "      <td>Kirsten Johnson</td>\n",
       "      <td>United States</td>\n",
       "      <td>2021-09-25</td>\n",
       "      <td>2020</td>\n",
       "      <td>PG-13</td>\n",
       "      <td>90 min</td>\n",
       "      <td>Documentaries</td>\n",
       "    </tr>\n",
       "    <tr>\n",
       "      <th>1</th>\n",
       "      <td>s3</td>\n",
       "      <td>TV Show</td>\n",
       "      <td>Ganglands</td>\n",
       "      <td>Julien Leclercq</td>\n",
       "      <td>France</td>\n",
       "      <td>2021-09-24</td>\n",
       "      <td>2021</td>\n",
       "      <td>TV-MA</td>\n",
       "      <td>1 Season</td>\n",
       "      <td>Crime TV Shows, International TV Shows, TV Act...</td>\n",
       "    </tr>\n",
       "    <tr>\n",
       "      <th>2</th>\n",
       "      <td>s6</td>\n",
       "      <td>TV Show</td>\n",
       "      <td>Midnight Mass</td>\n",
       "      <td>Mike Flanagan</td>\n",
       "      <td>United States</td>\n",
       "      <td>2021-09-24</td>\n",
       "      <td>2021</td>\n",
       "      <td>TV-MA</td>\n",
       "      <td>1 Season</td>\n",
       "      <td>TV Dramas, TV Horror, TV Mysteries</td>\n",
       "    </tr>\n",
       "    <tr>\n",
       "      <th>3</th>\n",
       "      <td>s14</td>\n",
       "      <td>Movie</td>\n",
       "      <td>Confessions of an Invisible Girl</td>\n",
       "      <td>Bruno Garotti</td>\n",
       "      <td>Brazil</td>\n",
       "      <td>2021-09-22</td>\n",
       "      <td>2021</td>\n",
       "      <td>TV-PG</td>\n",
       "      <td>91 min</td>\n",
       "      <td>Children &amp; Family Movies, Comedies</td>\n",
       "    </tr>\n",
       "    <tr>\n",
       "      <th>4</th>\n",
       "      <td>s8</td>\n",
       "      <td>Movie</td>\n",
       "      <td>Sankofa</td>\n",
       "      <td>Haile Gerima</td>\n",
       "      <td>United States</td>\n",
       "      <td>2021-09-24</td>\n",
       "      <td>1993</td>\n",
       "      <td>TV-MA</td>\n",
       "      <td>125 min</td>\n",
       "      <td>Dramas, Independent Movies, International Movies</td>\n",
       "    </tr>\n",
       "  </tbody>\n",
       "</table>\n",
       "</div>"
      ],
      "text/plain": [
       "  show_id     type                             title         director  \\\n",
       "0      s1    Movie              Dick Johnson Is Dead  Kirsten Johnson   \n",
       "1      s3  TV Show                         Ganglands  Julien Leclercq   \n",
       "2      s6  TV Show                     Midnight Mass    Mike Flanagan   \n",
       "3     s14    Movie  Confessions of an Invisible Girl    Bruno Garotti   \n",
       "4      s8    Movie                           Sankofa     Haile Gerima   \n",
       "\n",
       "         country date_added  release_year rating  duration  \\\n",
       "0  United States 2021-09-25          2020  PG-13    90 min   \n",
       "1         France 2021-09-24          2021  TV-MA  1 Season   \n",
       "2  United States 2021-09-24          2021  TV-MA  1 Season   \n",
       "3         Brazil 2021-09-22          2021  TV-PG    91 min   \n",
       "4  United States 2021-09-24          1993  TV-MA   125 min   \n",
       "\n",
       "                                           listed_in  \n",
       "0                                      Documentaries  \n",
       "1  Crime TV Shows, International TV Shows, TV Act...  \n",
       "2                 TV Dramas, TV Horror, TV Mysteries  \n",
       "3                 Children & Family Movies, Comedies  \n",
       "4   Dramas, Independent Movies, International Movies  "
      ]
     },
     "execution_count": 23,
     "metadata": {},
     "output_type": "execute_result"
    }
   ],
   "source": [
    "recent_years.head()"
   ]
  },
  {
   "cell_type": "code",
   "execution_count": 24,
   "id": "6ff0a630",
   "metadata": {
    "execution": {
     "iopub.execute_input": "2024-11-21T13:10:40.076809Z",
     "iopub.status.busy": "2024-11-21T13:10:40.075622Z",
     "iopub.status.idle": "2024-11-21T13:10:40.084980Z",
     "shell.execute_reply": "2024-11-21T13:10:40.083827Z"
    },
    "papermill": {
     "duration": 0.030878,
     "end_time": "2024-11-21T13:10:40.088383",
     "exception": false,
     "start_time": "2024-11-21T13:10:40.057505",
     "status": "completed"
    },
    "tags": []
   },
   "outputs": [
    {
     "data": {
      "text/plain": [
       "rating\n",
       "TV-MA       2546\n",
       "TV-14       1709\n",
       "R            715\n",
       "TV-PG        625\n",
       "PG-13        456\n",
       "PG           258\n",
       "TV-Y         253\n",
       "TV-Y7        241\n",
       "TV-G         181\n",
       "G             33\n",
       "NR            18\n",
       "UR             2\n",
       "TV-Y7-FV       2\n",
       "NC-17          1\n",
       "Name: count, dtype: int64"
      ]
     },
     "execution_count": 24,
     "metadata": {},
     "output_type": "execute_result"
    }
   ],
   "source": [
    "rating_counts"
   ]
  },
  {
   "cell_type": "code",
   "execution_count": 25,
   "id": "586dd31f",
   "metadata": {
    "execution": {
     "iopub.execute_input": "2024-11-21T13:10:40.129587Z",
     "iopub.status.busy": "2024-11-21T13:10:40.129009Z",
     "iopub.status.idle": "2024-11-21T13:10:40.478317Z",
     "shell.execute_reply": "2024-11-21T13:10:40.477150Z"
    },
    "papermill": {
     "duration": 0.371103,
     "end_time": "2024-11-21T13:10:40.481553",
     "exception": false,
     "start_time": "2024-11-21T13:10:40.110450",
     "status": "completed"
    },
    "tags": []
   },
   "outputs": [
    {
     "data": {
      "image/png": "[encoded data removed]",
      "text/plain": [
       "<Figure size 1200x600 with 1 Axes>"
      ]
     },
     "metadata": {},
     "output_type": "display_data"
    }
   ],
   "source": [
    "# Visualize ratings\n",
    "plt.figure(figsize=(12, 6))\n",
    "sns.barplot(x=rating_counts.index, y=rating_counts.values, palette='RdYlGn')\n",
    "plt.title('Content Ratings in Recent Years (2018+)', fontsize=16)\n",
    "plt.xlabel('Rating Category', fontsize=12)\n",
    "plt.ylabel('Rating Count', fontsize=12)\n",
    "plt.xticks(rotation=45)\n",
    "plt.show()"
   ]
  },
  {
   "cell_type": "markdown",
   "id": "17df8c68",
   "metadata": {
    "papermill": {
     "duration": 0.016698,
     "end_time": "2024-11-21T13:10:40.520972",
     "exception": false,
     "start_time": "2024-11-21T13:10:40.504274",
     "status": "completed"
    },
    "tags": []
   },
   "source": [
    "## Top 10 directors with the most releases"
   ]
  },
  {
   "cell_type": "code",
   "execution_count": 26,
   "id": "4861ef9c",
   "metadata": {
    "execution": {
     "iopub.execute_input": "2024-11-21T13:10:40.556970Z",
     "iopub.status.busy": "2024-11-21T13:10:40.556442Z",
     "iopub.status.idle": "2024-11-21T13:10:40.589384Z",
     "shell.execute_reply": "2024-11-21T13:10:40.588023Z"
    },
    "papermill": {
     "duration": 0.054395,
     "end_time": "2024-11-21T13:10:40.592230",
     "exception": false,
     "start_time": "2024-11-21T13:10:40.537835",
     "status": "completed"
    },
    "tags": []
   },
   "outputs": [
    {
     "data": {
      "text/plain": [
       "director\n",
       "Rajiv Chilaka          23\n",
       "Jan Suter              21\n",
       "Raúl Campos            19\n",
       "Alastair Fothergill    19\n",
       "Marcus Raboy           16\n",
       "                       ..\n",
       "Karey Kirkpatrick       1\n",
       "Tony Leondis            1\n",
       "Eugenio Derbez          1\n",
       "Michael Gallagher       1\n",
       "Mozez Singh             1\n",
       "Name: count, Length: 4991, dtype: int64"
      ]
     },
     "execution_count": 26,
     "metadata": {},
     "output_type": "execute_result"
    }
   ],
   "source": [
    "# Filter for TV shows and count categories\n",
    "# tv_shows = data[data['type'] == 'TV Show']\n",
    "directors = data['director'].str.split(', ').explode().value_counts().sort_values(ascending=False)\n",
    "directors = directors[directors.index != 'Not Given']\n",
    "directors"
   ]
  },
  {
   "cell_type": "code",
   "execution_count": 27,
   "id": "0f8d92da",
   "metadata": {
    "execution": {
     "iopub.execute_input": "2024-11-21T13:10:40.630315Z",
     "iopub.status.busy": "2024-11-21T13:10:40.628869Z",
     "iopub.status.idle": "2024-11-21T13:10:40.949968Z",
     "shell.execute_reply": "2024-11-21T13:10:40.948709Z"
    },
    "papermill": {
     "duration": 0.343592,
     "end_time": "2024-11-21T13:10:40.952744",
     "exception": false,
     "start_time": "2024-11-21T13:10:40.609152",
     "status": "completed"
    },
    "tags": []
   },
   "outputs": [
    {
     "data": {
      "image/png": "[encoded data removed]",
      "text/plain": [
       "<Figure size 1200x600 with 1 Axes>"
      ]
     },
     "metadata": {},
     "output_type": "display_data"
    }
   ],
   "source": [
    "plt.figure(figsize=(12, 6))\n",
    "sns.barplot(x=directors.head(10).index, y=directors.head(10).values, palette='inferno')\n",
    "plt.title('Top 10 directors with the most releases', fontsize=16)\n",
    "plt.xlabel('Director', fontsize=12)\n",
    "plt.ylabel('Release Count', fontsize=12)\n",
    "plt.xticks(rotation=45)\n",
    "plt.show()"
   ]
  },
  {
   "cell_type": "markdown",
   "id": "29bb4aae",
   "metadata": {
    "papermill": {
     "duration": 0.017384,
     "end_time": "2024-11-21T13:10:40.987978",
     "exception": false,
     "start_time": "2024-11-21T13:10:40.970594",
     "status": "completed"
    },
    "tags": []
   },
   "source": [
    "## Top 10 release countries"
   ]
  },
  {
   "cell_type": "code",
   "execution_count": 28,
   "id": "d39c2a1f",
   "metadata": {
    "execution": {
     "iopub.execute_input": "2024-11-21T13:10:41.024906Z",
     "iopub.status.busy": "2024-11-21T13:10:41.024529Z",
     "iopub.status.idle": "2024-11-21T13:10:41.035788Z",
     "shell.execute_reply": "2024-11-21T13:10:41.034585Z"
    },
    "papermill": {
     "duration": 0.032446,
     "end_time": "2024-11-21T13:10:41.038056",
     "exception": false,
     "start_time": "2024-11-21T13:10:41.005610",
     "status": "completed"
    },
    "tags": []
   },
   "outputs": [
    {
     "data": {
      "text/plain": [
       "country\n",
       "United States     3240\n",
       "India             1057\n",
       "United Kingdom     638\n",
       "Pakistan           420\n",
       "Canada             271\n",
       "Japan              259\n",
       "South Korea        214\n",
       "France             213\n",
       "Spain              182\n",
       "Mexico             138\n",
       "Name: count, dtype: int64"
      ]
     },
     "execution_count": 28,
     "metadata": {},
     "output_type": "execute_result"
    }
   ],
   "source": [
    "# Filter for TV shows and count categories\n",
    "# tv_shows = data[data['type'] == 'TV Show']\n",
    "countries = data['country'].value_counts().sort_values(ascending=False)\n",
    "countries = countries[countries.index != \"Not Given\"]\n",
    "countries.head(10)"
   ]
  },
  {
   "cell_type": "code",
   "execution_count": 29,
   "id": "e96c2747",
   "metadata": {
    "execution": {
     "iopub.execute_input": "2024-11-21T13:10:41.076062Z",
     "iopub.status.busy": "2024-11-21T13:10:41.075638Z",
     "iopub.status.idle": "2024-11-21T13:10:41.402389Z",
     "shell.execute_reply": "2024-11-21T13:10:41.400639Z"
    },
    "papermill": {
     "duration": 0.349168,
     "end_time": "2024-11-21T13:10:41.405003",
     "exception": false,
     "start_time": "2024-11-21T13:10:41.055835",
     "status": "completed"
    },
    "tags": []
   },
   "outputs": [
    {
     "data": {
      "image/png": "[encoded data removed]",
      "text/plain": [
       "<Figure size 1200x600 with 1 Axes>"
      ]
     },
     "metadata": {},
     "output_type": "display_data"
    }
   ],
   "source": [
    "plt.figure(figsize=(12, 6))\n",
    "sns.barplot(x=countries.head(10).index, y=countries.head(10).values, palette='coolwarm')\n",
    "plt.title('Top 10 release countries', fontsize=16)\n",
    "plt.xlabel('Country', fontsize=12)\n",
    "plt.ylabel('Release Count', fontsize=12)\n",
    "plt.xticks(rotation=45)\n",
    "plt.show()"
   ]
  },
  {
   "cell_type": "markdown",
   "id": "0d6b222e",
   "metadata": {
    "papermill": {
     "duration": 0.017609,
     "end_time": "2024-11-21T13:10:41.440924",
     "exception": false,
     "start_time": "2024-11-21T13:10:41.423315",
     "status": "completed"
    },
    "tags": []
   },
   "source": [
    "# Hypothesis Testing"
   ]
  },
  {
   "cell_type": "markdown",
   "id": "54869c32",
   "metadata": {
    "papermill": {
     "duration": 0.017808,
     "end_time": "2024-11-21T13:10:41.476834",
     "exception": false,
     "start_time": "2024-11-21T13:10:41.459026",
     "status": "completed"
    },
    "tags": []
   },
   "source": [
    "## Hypothesis 1: Netflix releases more movies than TV shows annually\n",
    "\n",
    "Here I'll use Chi-Square Test for Movies vs TV Shows counts per year"
   ]
  },
  {
   "cell_type": "code",
   "execution_count": 30,
   "id": "dd024cb3",
   "metadata": {
    "execution": {
     "iopub.execute_input": "2024-11-21T13:10:41.515125Z",
     "iopub.status.busy": "2024-11-21T13:10:41.514694Z",
     "iopub.status.idle": "2024-11-21T13:10:41.527574Z",
     "shell.execute_reply": "2024-11-21T13:10:41.526639Z"
    },
    "papermill": {
     "duration": 0.034971,
     "end_time": "2024-11-21T13:10:41.529836",
     "exception": false,
     "start_time": "2024-11-21T13:10:41.494865",
     "status": "completed"
    },
    "tags": []
   },
   "outputs": [],
   "source": [
    "hypothesis_1 = data.groupby(['release_year', 'type']).size().unstack().fillna(0).astype(int)\n",
    "chi2_stat, p_val_h1, dof, expected = chi2_contingency(hypothesis_1.T)\n"
   ]
  },
  {
   "cell_type": "code",
   "execution_count": 31,
   "id": "b18aada2",
   "metadata": {
    "execution": {
     "iopub.execute_input": "2024-11-21T13:10:41.567653Z",
     "iopub.status.busy": "2024-11-21T13:10:41.567240Z",
     "iopub.status.idle": "2024-11-21T13:10:41.573324Z",
     "shell.execute_reply": "2024-11-21T13:10:41.572020Z"
    },
    "papermill": {
     "duration": 0.027493,
     "end_time": "2024-11-21T13:10:41.575427",
     "exception": false,
     "start_time": "2024-11-21T13:10:41.547934",
     "status": "completed"
    },
    "tags": []
   },
   "outputs": [
    {
     "name": "stdout",
     "output_type": "stream",
     "text": [
      "Hypothesis 1 (Movies vs TV Shows): p-value = 7.380333058037853e-74\n"
     ]
    }
   ],
   "source": [
    "print(f\"Hypothesis 1 (Movies vs TV Shows): p-value = {p_val_h1}\")"
   ]
  },
  {
   "cell_type": "markdown",
   "id": "454bc6c5",
   "metadata": {
    "papermill": {
     "duration": 0.018064,
     "end_time": "2024-11-21T13:10:41.611476",
     "exception": false,
     "start_time": "2024-11-21T13:10:41.593412",
     "status": "completed"
    },
    "tags": []
   },
   "source": [
    "## Hypothesis 2: TV Shows are predominantly categorized under \"Crime\".\n",
    "\n",
    "I used Chi-Square Test for top TV show categories (\"Crime\" vs others)"
   ]
  },
  {
   "cell_type": "code",
   "execution_count": 32,
   "id": "e6e4ca56",
   "metadata": {
    "execution": {
     "iopub.execute_input": "2024-11-21T13:10:41.650640Z",
     "iopub.status.busy": "2024-11-21T13:10:41.650244Z",
     "iopub.status.idle": "2024-11-21T13:10:41.666702Z",
     "shell.execute_reply": "2024-11-21T13:10:41.665448Z"
    },
    "papermill": {
     "duration": 0.038936,
     "end_time": "2024-11-21T13:10:41.669102",
     "exception": false,
     "start_time": "2024-11-21T13:10:41.630166",
     "status": "completed"
    },
    "tags": []
   },
   "outputs": [],
   "source": [
    "tv_shows = data[data['type'] == 'TV Show']\n",
    "tv_categories = tv_shows['listed_in'].str.split(', ').explode().value_counts()\n",
    "crime_drama_counts = tv_categories.get('Crime TV Shows', 0) + tv_categories.get('TV Dramas', 0)\n",
    "other_categories_count = tv_categories.sum() - crime_drama_counts\n",
    "observed_h2 = [crime_drama_counts, other_categories_count]\n",
    "chi2_stat_h2, p_val_h2, dof_h2, expected_h2 = chi2_contingency([observed_h2, [1, 1]])\n"
   ]
  },
  {
   "cell_type": "code",
   "execution_count": 33,
   "id": "298f7076",
   "metadata": {
    "execution": {
     "iopub.execute_input": "2024-11-21T13:10:41.707863Z",
     "iopub.status.busy": "2024-11-21T13:10:41.707486Z",
     "iopub.status.idle": "2024-11-21T13:10:41.713410Z",
     "shell.execute_reply": "2024-11-21T13:10:41.712027Z"
    },
    "papermill": {
     "duration": 0.028285,
     "end_time": "2024-11-21T13:10:41.715603",
     "exception": false,
     "start_time": "2024-11-21T13:10:41.687318",
     "status": "completed"
    },
    "tags": []
   },
   "outputs": [
    {
     "name": "stdout",
     "output_type": "stream",
     "text": [
      "Hypothesis 2 (Crime/Drama categories): p-value = 0.8646191143101718\n"
     ]
    }
   ],
   "source": [
    "print(f\"Hypothesis 2 (Crime/Drama categories): p-value = {p_val_h2}\")"
   ]
  },
  {
   "cell_type": "markdown",
   "id": "2f05c07c",
   "metadata": {
    "papermill": {
     "duration": 0.018534,
     "end_time": "2024-11-21T13:10:41.752401",
     "exception": false,
     "start_time": "2024-11-21T13:10:41.733867",
     "status": "completed"
    },
    "tags": []
   },
   "source": [
    "## Hypothesis 3: Most content added in recent years is rated \"TV-MA\".\n",
    "I used the Proportion Test for \"TV-MA\" frequency"
   ]
  },
  {
   "cell_type": "code",
   "execution_count": 34,
   "id": "c29ecece",
   "metadata": {
    "execution": {
     "iopub.execute_input": "2024-11-21T13:10:41.794006Z",
     "iopub.status.busy": "2024-11-21T13:10:41.792968Z",
     "iopub.status.idle": "2024-11-21T13:10:41.803237Z",
     "shell.execute_reply": "2024-11-21T13:10:41.802146Z"
    },
    "papermill": {
     "duration": 0.034554,
     "end_time": "2024-11-21T13:10:41.805714",
     "exception": false,
     "start_time": "2024-11-21T13:10:41.771160",
     "status": "completed"
    },
    "tags": []
   },
   "outputs": [],
   "source": [
    "recent_years = data[data['date_added'].dt.year >= 2018]\n",
    "rating_counts = recent_years['rating'].value_counts()\n",
    "tv_ma_count = rating_counts.get('TV-MA', 0)\n",
    "other_ratings_count = rating_counts.sum() - tv_ma_count\n",
    "count_h3 = [tv_ma_count, other_ratings_count]\n",
    "nobs_h3 = [rating_counts.sum(), rating_counts.sum()]\n",
    "stat_h3, p_val_h3 = proportions_ztest(count_h3, nobs_h3)"
   ]
  },
  {
   "cell_type": "code",
   "execution_count": 35,
   "id": "274d93d2",
   "metadata": {
    "execution": {
     "iopub.execute_input": "2024-11-21T13:10:41.845744Z",
     "iopub.status.busy": "2024-11-21T13:10:41.845220Z",
     "iopub.status.idle": "2024-11-21T13:10:41.850892Z",
     "shell.execute_reply": "2024-11-21T13:10:41.849513Z"
    },
    "papermill": {
     "duration": 0.029967,
     "end_time": "2024-11-21T13:10:41.854258",
     "exception": false,
     "start_time": "2024-11-21T13:10:41.824291",
     "status": "completed"
    },
    "tags": []
   },
   "outputs": [
    {
     "name": "stdout",
     "output_type": "stream",
     "text": [
      "Hypothesis 3 (TV-MA ratings): p-value = 1.9570930437794378e-236\n"
     ]
    }
   ],
   "source": [
    "print(f\"Hypothesis 3 (TV-MA ratings): p-value = {p_val_h3}\")"
   ]
  }
 ],
 "metadata": {
  "kaggle": {
   "accelerator": "none",
   "dataSources": [
    {
     "datasetId": 6113839,
     "sourceId": 9943261,
     "sourceType": "datasetVersion"
    }
   ],
   "dockerImageVersionId": 30786,
   "isGpuEnabled": false,
   "isInternetEnabled": true,
   "language": "python",
   "sourceType": "notebook"
  },
  "kernelspec": {
   "display_name": "Python 3",
   "language": "python",
   "name": "python3"
  },
  "language_info": {
   "codemirror_mode": {
    "name": "ipython",
    "version": 3
   },
   "file_extension": ".py",
   "mimetype": "text/x-python",
   "name": "python",
   "nbconvert_exporter": "python",
   "pygments_lexer": "ipython3",
   "version": "3.10.14"
  },
  "papermill": {
   "default_parameters": {},
   "duration": 13.391306,
   "end_time": "2024-11-21T13:10:42.698169",
   "environment_variables": {},
   "exception": null,
   "input_path": "__notebook__.ipynb",
   "output_path": "__notebook__.ipynb",
   "parameters": {},
   "start_time": "2024-11-21T13:10:29.306863",
   "version": "2.6.0"
  }
 },
 "nbformat": 4,
 "nbformat_minor": 5
}
